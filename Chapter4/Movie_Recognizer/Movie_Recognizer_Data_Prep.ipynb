{
 "cells": [
  {
   "cell_type": "code",
   "execution_count": 1,
   "metadata": {},
   "outputs": [],
   "source": [
    "import os\n",
    "import base64\n",
    "import boto3\n",
    "import json\n",
    "import pandas as pd\n",
    "import requests\n",
    "import urllib.request\n",
    "from botocore.config import Config\n",
    "from requests.auth import HTTPBasicAuth"
   ]
  },
  {
   "cell_type": "code",
   "execution_count": 27,
   "metadata": {},
   "outputs": [],
   "source": [
    "movie_files = [f for f in os.listdir('movielens/') if f.endswith('.json')]\n",
    "all_movie_data = []\n",
    "\n",
    "for idx, movie_file in enumerate(movie_files):\n",
    "    file_path = os.path.join('movielens/', movie_file)\n",
    "    with open(file_path, 'r', encoding='utf-8') as f:\n",
    "        movie_info = json.load(f).get('data', {}).get('searchResults', [])\n",
    "        all_movie_data.extend(movie_info)"
   ]
  },
  {
   "cell_type": "code",
   "execution_count": 28,
   "metadata": {},
   "outputs": [],
   "source": [
    "movies_df = pd.DataFrame([movie['movie'] for movie in all_movie_data])"
   ]
  },
  {
   "cell_type": "code",
   "execution_count": 29,
   "metadata": {},
   "outputs": [],
   "source": [
    "import ssl\n",
    "def save_image(image_url, directory, image_name):\n",
    "    image_name = image_name.lstrip('/')\n",
    "    full_image_path = os.path.join(directory, image_name)\n",
    "    os.makedirs(directory, exist_ok=True)\n",
    "\n",
    "    ssl_context = ssl._create_unverified_context()\n",
    "    with urllib.request.urlopen(image_url, context=ssl_context) as response, open(full_image_path, 'wb') as image_file:\n",
    "        image_data = response.read()\n",
    "        image_file.write(image_data)"
   ]
  },
  {
   "cell_type": "code",
   "execution_count": 20,
   "metadata": {},
   "outputs": [],
   "source": [
    "for _, movie in movies_df.iterrows():\n",
    "    poster_url = 'https://image.tmdb.org/t/p/w500/' + movie['posterPath']\n",
    "    save_image(poster_url, 'images/', movie['posterPath'])"
   ]
  },
  {
   "cell_type": "code",
   "execution_count": 30,
   "metadata": {},
   "outputs": [],
   "source": [
    "config = Config(\n",
    "    region_name = 'us-west-2',\n",
    "    signature_version = 'v4',\n",
    "    retries = {\n",
    "        'max_attempts': 10,\n",
    "        'mode': 'standard'\n",
    "    }\n",
    ")\n",
    "\n",
    "bedrock_client = boto3.client(service_name=\"bedrock-runtime\", config=config)"
   ]
  },
  {
   "cell_type": "code",
   "execution_count": 24,
   "metadata": {},
   "outputs": [],
   "source": [
    "os.makedirs('images/', exist_ok=True)\n",
    "os.makedirs('embeddings/', exist_ok=True)\n",
    "\n",
    "def get_embedding(image_path, title=None):\n",
    "    with open(image_path, \"rb\") as image_file:\n",
    "        input_image = base64.b64encode(image_file.read()).decode('utf8')\n",
    "        \n",
    "    body = {\"inputImage\": input_image}\n",
    "    if title:\n",
    "        body[\"inputText\"] = title\n",
    "\n",
    "    response = bedrock_runtime.invoke_model(\n",
    "        body=json.dumps(body),\n",
    "        modelId=\"amazon.titan-embed-image-v1\",\n",
    "        accept=\"application/json\",\n",
    "        contentType=\"application/json\"\n",
    "    )\n",
    "\n",
    "    vector_json = json.loads(response['body'].read().decode('utf8'))\n",
    "    image_name = image_path.split(\"/\")[-1].split(\".\")[0]\n",
    "\n",
    "    return vector_json, image_name\n"
   ]
  },
  {
   "cell_type": "code",
   "execution_count": 25,
   "metadata": {},
   "outputs": [],
   "source": [
    "for index, row in df.iterrows():\n",
    "    image_path = 'images/' + row['posterPath']\n",
    "    \n",
    "    vector_json, image_name = get_embedding(image_path)\n",
    "    with open('embeddings/' + image_name + '.json', 'w') as f:\n",
    "        json.dump(vector_json, f)\n",
    "    \n",
    "    vector_json, image_name = get_embedding(image_path, row['title'])\n",
    "    with open('embeddings/' + 'with_title_' + image_name + '.json', 'w') as f:\n",
    "        json.dump(vector_json, f)\n"
   ]
  },
  {
   "cell_type": "code",
   "execution_count": null,
   "metadata": {},
   "outputs": [],
   "source": [
    "df = df.drop(columns=['dvdReleaseDate', 'backdropPaths', 'youtubeTrailerIds', 'numRatings', 'avgRating'])"
   ]
  },
  {
   "cell_type": "code",
   "execution_count": 16,
   "metadata": {},
   "outputs": [
    {
     "name": "stdout",
     "output_type": "stream",
     "text": [
      "Cluster Health Response: 200\n",
      "{'cluster_name': 'opensearch-cluster', 'status': 'green', 'timed_out': False, 'number_of_nodes': 2, 'number_of_data_nodes': 2, 'discovered_master': True, 'discovered_cluster_manager': True, 'active_primary_shards': 5, 'active_shards': 10, 'relocating_shards': 0, 'initializing_shards': 0, 'unassigned_shards': 0, 'delayed_unassigned_shards': 0, 'number_of_pending_tasks': 0, 'number_of_in_flight_fetch': 0, 'task_max_waiting_in_queue_millis': 0, 'active_shards_percent_as_number': 100.0}\n"
     ]
    }
   ],
   "source": [
    "elastic_url = \"https://127.0.0.1:9200\"\n",
    "user = \"admin\"\n",
    "passwd = \"<YOUR_PASSWORD_HERE>\"\n",
    "\n",
    "requests.packages.urllib3.disable_warnings()\n",
    "\n",
    "try:\n",
    "    health_response = requests.get(f\"{elastic_url}/_cluster/health\", auth=HTTPBasicAuth(user, passwd), verify=False)\n",
    "    print(\"Cluster Health Response:\", health_response.status_code)\n",
    "    print(health_response.json())\n",
    "except requests.ConnectionError as conn_err:\n",
    "    print(f\"Connection failed: {conn_err}\")\n"
   ]
  },
  {
   "cell_type": "code",
   "execution_count": 17,
   "metadata": {},
   "outputs": [
    {
     "name": "stdout",
     "output_type": "stream",
     "text": [
      "{\"error\":{\"root_cause\":[{\"type\":\"index_not_found_exception\",\"reason\":\"no such index [multi-modal-embedding-index]\",\"index\":\"multi-modal-embedding-index\",\"resource.id\":\"multi-modal-embedding-index\",\"resource.type\":\"index_or_alias\",\"index_uuid\":\"_na_\"}],\"type\":\"index_not_found_exception\",\"reason\":\"no such index [multi-modal-embedding-index]\",\"index\":\"multi-modal-embedding-index\",\"resource.id\":\"multi-modal-embedding-index\",\"resource.type\":\"index_or_alias\",\"index_uuid\":\"_na_\"},\"status\":404}\n"
     ]
    }
   ],
   "source": [
    "delete_response = requests.delete(f\"{elastic_url}/multi-modal-embedding-index\", auth=HTTPBasicAuth(user, passwd), verify=False)\n",
    "print(delete_response.text)\n",
    "\n"
   ]
  },
  {
   "cell_type": "code",
   "execution_count": 19,
   "metadata": {},
   "outputs": [],
   "source": [
    "mapping = {\n",
    "    \"settings\": {\"index.knn\": True},\n",
    "    \"mappings\": {\n",
    "        \"properties\": {\n",
    "            \"titan_multimodal_embedding\": {\"type\": \"knn_vector\", \"dimension\": 1024},\n",
    "            \"title\": {\"type\": \"text\"},\n",
    "            \"plotSummary\": {\"type\": \"text\"},\n",
    "            \"movieId\": {\"type\": \"keyword\"},\n",
    "            \"imdbMovieId\": {\"type\": \"keyword\"},\n",
    "            \"posterPath\": {\"type\": \"text\"},\n",
    "        }\n",
    "    }\n",
    "}\n"
   ]
  },
  {
   "cell_type": "code",
   "execution_count": 20,
   "metadata": {},
   "outputs": [],
   "source": [
    "response = requests.put(f\"{base_url}/multi-modal-embedding-index\", auth=HTTPBasicAuth(username, password), verify=False, json=mapping)"
   ]
  },
  {
   "cell_type": "code",
   "execution_count": 21,
   "metadata": {},
   "outputs": [],
   "source": [
    "def generate_document(row_data):\n",
    "    embedding_path = f\"embeddings/with_title_{row_data['posterPath'].split('/')[-1].split('.')[0]}.json\"\n",
    "    with open(embedding_path) as file:\n",
    "        embedding_data = json.load(file)\n",
    "\n",
    "    return {\n",
    "        \"titan_multimodal_embedding\": embedding_data['embedding'],\n",
    "        \"title\": row_data['title'],\n",
    "        \"plotSummary\": row_data['plotSummary'],\n",
    "        \"movieId\": row_data['movieId'],\n",
    "        \"imdbMovieId\": row_data['imdbMovieId'],\n",
    "        \"posterPath\": row_data['posterPath']\n",
    "    }"
   ]
  },
  {
   "cell_type": "code",
   "execution_count": 31,
   "metadata": {},
   "outputs": [],
   "source": [
    "for idx, row_data in df.iterrows():\n",
    "    doc = generate_document(row_data)\n",
    "    response = requests.post(f\"{base_url}/multi-modal-embedding-index/_doc\", auth=HTTPBasicAuth(username, password), verify=False, json=doc)"
   ]
  },
  {
   "cell_type": "code",
   "execution_count": null,
   "metadata": {},
   "outputs": [],
   "source": []
  }
 ],
 "metadata": {
  "kernelspec": {
   "display_name": "Python 3 (ipykernel)",
   "language": "python",
   "name": "python3"
  },
  "language_info": {
   "codemirror_mode": {
    "name": "ipython",
    "version": 3
   },
   "file_extension": ".py",
   "mimetype": "text/x-python",
   "name": "python",
   "nbconvert_exporter": "python",
   "pygments_lexer": "ipython3",
   "version": "3.9.12"
  }
 },
 "nbformat": 4,
 "nbformat_minor": 2
}
