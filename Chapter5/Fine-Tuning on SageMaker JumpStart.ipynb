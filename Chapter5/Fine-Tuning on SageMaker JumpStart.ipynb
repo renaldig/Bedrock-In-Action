{
 "cells": [
  {
   "cell_type": "code",
   "execution_count": null,
   "id": "df69327d",
   "metadata": {},
   "outputs": [],
   "source": [
    "import json\n",
    "import boto3\n",
    "def lambda_handler(event, context):\n",
    "        sagemaker_runtime = boto3.client('sagemaker-runtime')\n",
    "        \n",
    "        endpoint_name='jumpstart-model-text-generation-llama-2-70b'\n",
    "        response = sagemaker_runtime.invoke_endpoint(\n",
    "            EndpointName='<NAME_OF_ENDPOINT_HERE>',\n",
    "            ContentType='application/json',\n",
    "            Body=event['body'],\n",
    "            CustomAttributes=\"accept_eula=true\")\n",
    "        \n",
    "        result = json.loads(response['Body'].read().decode())\n",
    "        \n",
    "        return {\n",
    "            \"statusCode\": 200,\n",
    "            \"body\": json.dumps(result)\n",
    "        }"
   ]
  }
 ],
 "metadata": {
  "kernelspec": {
   "display_name": "Python 3 (ipykernel)",
   "language": "python",
   "name": "python3"
  },
  "language_info": {
   "codemirror_mode": {
    "name": "ipython",
    "version": 3
   },
   "file_extension": ".py",
   "mimetype": "text/x-python",
   "name": "python",
   "nbconvert_exporter": "python",
   "pygments_lexer": "ipython3",
   "version": "3.9.12"
  }
 },
 "nbformat": 4,
 "nbformat_minor": 5
}
