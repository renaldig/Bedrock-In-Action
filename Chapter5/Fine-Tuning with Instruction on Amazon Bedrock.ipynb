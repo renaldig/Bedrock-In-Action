{
 "cells": [
  {
   "cell_type": "markdown",
   "id": "700bb0b6",
   "metadata": {},
   "source": [
    "## Setting up Libraries"
   ]
  },
  {
   "cell_type": "code",
   "execution_count": null,
   "id": "5625a6f8",
   "metadata": {},
   "outputs": [],
   "source": [
    "!pip install --upgrade pip\n",
    "%pip install --no-build-isolation --force-reinstall \\\n",
    "    boto3==1.28.57 \\\n",
    "    awscli==1.29.57 \\\n",
    "    botocore==1.31.57\n",
    "!pip install -q --force-reinstall langchain typing_extensions pypdf urllib3==2.1.0\n",
    "!pip install -qU 'ipywidgets>=7,<8'\n",
    "!pip install jsonlines\n",
    "!pip install datasets==2.15.0\n",
    "!pip install pandas==2.1.3\n",
    "!pip install matplotlib==3.8.2\n",
    "!pip install tokenizers==0.12.1\n",
    "!pip install -qU fmeval==0.3.0"
   ]
  },
  {
   "cell_type": "code",
   "execution_count": null,
   "id": "d35ec9b7",
   "metadata": {},
   "outputs": [],
   "source": [
    "import os\n",
    "import IPython\n",
    "\n",
    "def restart_kernel():\n",
    "    os._exit(00)\n",
    "\n",
    "restart_kernel()"
   ]
  },
  {
   "cell_type": "code",
   "execution_count": null,
   "id": "ff0d2224",
   "metadata": {},
   "outputs": [],
   "source": [
    "import boto3\n",
    "import json\n",
    "import jsonlines\n",
    "import os\n",
    "import pprint\n",
    "import random\n",
    "import sys\n",
    "import time\n",
    "import warnings\n",
    "import pandas as pd\n",
    "import matplotlib.pyplot as plt\n",
    "from datasets import load_dataset\n",
    "\n",
    "warnings.filterwarnings('ignore')"
   ]
  },
  {
   "cell_type": "markdown",
   "id": "b0739e3d",
   "metadata": {},
   "source": [
    "## Preparing the Session and Making Configurations"
   ]
  },
  {
   "cell_type": "code",
   "execution_count": null,
   "id": "e6a57ec6",
   "metadata": {},
   "outputs": [],
   "source": [
    "session = boto3.session.Session()\n",
    "region = session.region_name\n",
    "sts_client = boto3.client('sts')\n",
    "account_id = sts_client.get_caller_identity()[\"Account\"]\n",
    "s3_suffix = f\"{region}-{account_id}\"\n",
    "bucket_name = f\"bedrock-fine-tuning-custom-{s3_suffix}\"\n",
    "s3_client = boto3.client('s3')\n",
    "bedrock = boto3.client(service_name=\"bedrock\", region_name=region)\n",
    "bedrock_runtime = boto3.client(service_name=\"bedrock-runtime\", region_name=region)\n",
    "iam = boto3.client('iam', region_name=region)"
   ]
  },
  {
   "cell_type": "code",
   "execution_count": null,
   "id": "629f8c26",
   "metadata": {},
   "outputs": [],
   "source": [
    "role_name = \"AmazonBedrockFineTuningCustomRole\"\n",
    "s3_bedrock_finetuning_access_policy=\"AmazonBedrockFineTuningCustomPolicy\"\n",
    "customization_role = f\"arn:aws:iam::{account_id}:role/{role_name}\""
   ]
  },
  {
   "cell_type": "code",
   "execution_count": null,
   "id": "61e4e4f5",
   "metadata": {},
   "outputs": [],
   "source": [
    "s3bucket = s3_client.create_bucket(\n",
    "    Bucket=bucket_name,\n",
    ")"
   ]
  },
  {
   "cell_type": "code",
   "execution_count": null,
   "id": "e2ca0e0e",
   "metadata": {},
   "outputs": [],
   "source": [
    "s3_bedrock_role = f\"\"\"{{\n",
    "    \"Version\": \"2012-10-17\",\n",
    "    \"Statement\": [\n",
    "        {{\n",
    "            \"Effect\": \"Allow\",\n",
    "            \"Principal\": {{\n",
    "                \"Service\": \"bedrock.amazonaws.com\"\n",
    "            }},\n",
    "            \"Action\": \"sts:AssumeRole\",\n",
    "            \"Condition\": {{\n",
    "                \"StringEquals\": {{\n",
    "                    \"aws:SourceAccount\": \"{account_id}\"\n",
    "                }},\n",
    "                \"ArnEquals\": {{\n",
    "                    \"aws:SourceArn\": \"arn:aws:bedrock:{region}:{account_id}:model-customization-job/*\"\n",
    "                }}\n",
    "            }}\n",
    "        }}\n",
    "    ]\n",
    "}}\n",
    "\"\"\""
   ]
  },
  {
   "cell_type": "code",
   "execution_count": null,
   "id": "e96c7553",
   "metadata": {},
   "outputs": [],
   "source": [
    "response = iam.create_role(\n",
    "    RoleName=role_name,\n",
    "    AssumeRolePolicyDocument=s3_bedrock_role,\n",
    "    Description=\"Role for Bedrock to access S3 for finetuning\",\n",
    ")\n",
    "pprint.pp(response)"
   ]
  },
  {
   "cell_type": "code",
   "execution_count": null,
   "id": "802d366a",
   "metadata": {},
   "outputs": [],
   "source": [
    "s3_access_policy = f\"\"\"{{\n",
    "    \"Version\": \"2012-10-17\",\n",
    "    \"Statement\": [\n",
    "        {{\n",
    "            \"Effect\": \"Allow\",\n",
    "            \"Action\": [\n",
    "                \"s3:AbortMultipartUpload\",\n",
    "                \"s3:DeleteObject\",\n",
    "                \"s3:PutObject\",\n",
    "                \"s3:GetObject\",\n",
    "                \"s3:GetBucketAcl\",\n",
    "                \"s3:GetBucketNotification\",\n",
    "                \"s3:ListBucket\",\n",
    "                \"s3:PutBucketNotification\"\n",
    "            ],\n",
    "            \"Resource\": [\n",
    "                \"arn:aws:s3:::{bucket_name}\",\n",
    "                \"arn:aws:s3:::{bucket_name}/*\"\n",
    "            ]\n",
    "        }}\n",
    "    ]\n",
    "}}\"\"\"\n"
   ]
  },
  {
   "cell_type": "code",
   "execution_count": null,
   "id": "cf403b81",
   "metadata": {},
   "outputs": [],
   "source": [
    "response = iam.create_policy(\n",
    "    PolicyName=s3_bedrock_finetuning_access_policy,\n",
    "    PolicyDocument=s3_access_policy,\n",
    ")\n",
    "pprint.pp(response)"
   ]
  },
  {
   "cell_type": "code",
   "execution_count": null,
   "id": "6787432a",
   "metadata": {},
   "outputs": [],
   "source": [
    "role_arn = response[\"Role\"][\"Arn\"]\n",
    "policy_arn = response[\"Policy\"][\"Arn\"]\n",
    "iam.attach_role_policy(\n",
    "    RoleName=role_name,\n",
    "    PolicyArn=policy_arn,\n",
    ")"
   ]
  },
  {
   "cell_type": "markdown",
   "id": "14bbe7cd",
   "metadata": {},
   "source": [
    "## Loading the GovReport Dataset"
   ]
  },
  {
   "cell_type": "code",
   "execution_count": null,
   "id": "c3f4add4",
   "metadata": {},
   "outputs": [],
   "source": [
    "dataset = load_dataset(\"ccdv/govreport-summarization\")"
   ]
  },
  {
   "cell_type": "code",
   "execution_count": null,
   "id": "4ec61287",
   "metadata": {},
   "outputs": [],
   "source": [
    "print(dataset)"
   ]
  },
  {
   "cell_type": "code",
   "execution_count": null,
   "id": "aadc088b",
   "metadata": {},
   "outputs": [],
   "source": [
    "instruction='''Below is an instruction which describes a task, paired with an input which will provide further context. Write a response that appropriately completes the request.\n",
    "\n",
    "instruction:\n",
    "\n",
    "Summarize the report provided below.\n",
    "\n",
    "input:\n",
    "\n",
    "'''"
   ]
  },
  {
   "cell_type": "code",
   "execution_count": null,
   "id": "1eabb0f4",
   "metadata": {},
   "outputs": [],
   "source": [
    "datapoints_train=[]\n",
    "for data in dataset['train']:\n",
    "    temp_dict={}\n",
    "    temp_dict['prompt']=instruction+data['report']\n",
    "    temp_dict['completion']='response:\\n'+data['summary']\n",
    "    datapoints_train.append(temp_dict)"
   ]
  },
  {
   "cell_type": "code",
   "execution_count": null,
   "id": "6611bc01",
   "metadata": {},
   "outputs": [],
   "source": [
    "print(training_datapoints[4]['prompt'])"
   ]
  },
  {
   "cell_type": "code",
   "execution_count": null,
   "id": "096490a2",
   "metadata": {},
   "outputs": [],
   "source": [
    "datapoints_valid=[]\n",
    "for data in dataset['validation']:\n",
    "    temp_dict={}\n",
    "    temp_dict['prompt']=instruction+data['report']\n",
    "    temp_dict['completion']='response:\\n\\n'+data['summary']\n",
    "    datapoints_valid.append(temp_dict)\n",
    "\n",
    "datapoints_test=[]\n",
    "for data in dataset['test']:\n",
    "    temp_dict={}\n",
    "    temp_dict['prompt']=instruction+data['report']\n",
    "    temp_dict['completion']='response:\\n\\n'+data['summary']\n",
    "    datapoints_test.append(temp_dict)"
   ]
  },
  {
   "cell_type": "code",
   "execution_count": null,
   "id": "532b2ce3",
   "metadata": {},
   "outputs": [],
   "source": [
    "def data_transform(data_points,num_data,max_data_length):\n",
    "    lines=[]\n",
    "    for data in data_points:\n",
    "        if len(data['prompt']+data['completion'])<=max_data_length:\n",
    "                lines.append(data)\n",
    "    random.shuffle(lines)\n",
    "    lines=lines[:num_data]\n",
    "    return lines"
   ]
  },
  {
   "cell_type": "code",
   "execution_count": null,
   "id": "8d12331a",
   "metadata": {},
   "outputs": [],
   "source": [
    "def jsonl_converter(dataset,file_name):\n",
    "    print(file_name)\n",
    "    with jsonlines.open(file_name, 'w') as writer:\n",
    "        for line in dataset:\n",
    "            writer.write(line)"
   ]
  },
  {
   "cell_type": "code",
   "execution_count": null,
   "id": "18fb529b",
   "metadata": {},
   "outputs": [],
   "source": [
    "train=data_transform(datapoints_train,5000,10000)\n",
    "validation=data_transform(datapoints_valid,999,10000)\n",
    "test=data_transform(datapoints_test,10,10000)"
   ]
  },
  {
   "cell_type": "markdown",
   "id": "91d550e6",
   "metadata": {},
   "source": [
    "## Using Local Directories for Fine-tuning Datasets"
   ]
  },
  {
   "cell_type": "code",
   "execution_count": null,
   "id": "92dfdf89",
   "metadata": {},
   "outputs": [],
   "source": [
    "dataset_folder=\"fine-tuning-datasets\"\n",
    "train_file_name=\"train-govreport.jsonl\"\n",
    "validation_file_name=\"validation-govreport.jsonl\"\n",
    "test_file_name=\"test-govreport.jsonl\"\n",
    "!mkdir fine-tuning-datasets\n",
    "abs_path=os.path.abspath(dataset_folder) "
   ]
  },
  {
   "cell_type": "code",
   "execution_count": null,
   "id": "e1aa1545",
   "metadata": {},
   "outputs": [],
   "source": [
    "jsonl_converter(train,f'{abs_path}/{train_file_name}')\n",
    "jsonl_converter(validation,f'{abs_path}/{validation_file_name}')\n",
    "jsonl_converter(test,f'{abs_path}/{test_file_name}')"
   ]
  },
  {
   "cell_type": "code",
   "execution_count": null,
   "id": "eb57bd75",
   "metadata": {},
   "outputs": [],
   "source": [
    "s3_client.upload_file(f'{abs_path}/{train_file_name}', bucket_name, f'fine-tuning-datasets/train/{train_file_name}')\n",
    "s3_client.upload_file(f'{abs_path}/{validation_file_name}', bucket_name, f'fine-tuning-datasets/validation/{validation_file_name}')\n",
    "s3_client.upload_file(f'{abs_path}/{test_file_name}', bucket_name, f'fine-tuning-datasets/test/{test_file_name}')\n",
    "\n",
    "s3_train_uri=f's3://{bucket_name}/fine-tuning-datasets/train/{train_file_name}'\n",
    "s3_validation_uri=f's3://{bucket_name}/fine-tuning-datasets/validation/{validation_file_name}'\n",
    "s3_test_uri=f's3://{bucket_name}/fine-tuning-datasets/test/{test_file_name}'"
   ]
  },
  {
   "cell_type": "markdown",
   "id": "d85a822f",
   "metadata": {},
   "source": [
    "## Initialize Bedrock Session for Fine-Tuning"
   ]
  },
  {
   "cell_type": "code",
   "execution_count": null,
   "id": "5eb089cc",
   "metadata": {},
   "outputs": [],
   "source": [
    "session = boto3.session.Session()\n",
    "region = 'us-west-2'\n",
    "sts_client = boto3.client('sts')\n",
    "s3_client = boto3.client('s3')\n",
    "aws_account_id = sts_client.get_caller_identity()[\"Account\"]\n",
    "bedrock = boto3.client(service_name=\"bedrock\", region_name=region)\n",
    "bedrock_runtime = boto3.client(service_name=\"bedrock-runtime\", region_name=region)"
   ]
  },
  {
   "cell_type": "code",
   "execution_count": null,
   "id": "fc77510b",
   "metadata": {},
   "outputs": [],
   "source": [
    "test_file_name = \"test-govreport.jsonl\"\n",
    "data_folder = \"fine-tuning-datasets\""
   ]
  },
  {
   "cell_type": "markdown",
   "id": "aafcffa4",
   "metadata": {},
   "source": [
    "## Creating the Fine-tuning Job"
   ]
  },
  {
   "cell_type": "code",
   "execution_count": null,
   "id": "e14e329d",
   "metadata": {},
   "outputs": [],
   "source": [
    "from datetime import datetime\n",
    "timestamp = datetime.now().strftime(\"%Y-%m-%d-%H-%M-%S\")\n",
    "base_model_id = \"meta.llama2-13b-v1:0:4k\"\n",
    "customization_type = \"FINE_TUNING\"\n",
    "customization_role = role_arn\n",
    "customization_job_name = f\"llama2-finetune-sm-test-model-{timestamp}\"\n",
    "custom_model_name = f\"llama2-finetune-{timestamp}\""
   ]
  },
  {
   "cell_type": "code",
   "execution_count": null,
   "id": "b1a1188b",
   "metadata": {},
   "outputs": [],
   "source": [
    "hyper_parameters = {\n",
    "        \"epochCount\": \"2\",\n",
    "        \"batchSize\": \"1\",\n",
    "        \"learningRate\": \"0.00005\",\n",
    "    }\n",
    "\n",
    "training_data_config = {\"s3Uri\": s3_train_uri}\n",
    "\n",
    "validation_data_config = {\n",
    "        \"validators\": [{\n",
    "            \"s3Uri\": s3_validation_uri\n",
    "        }]\n",
    "    }\n",
    "\n",
    "output_data_config = {\"s3Uri\": f's3://{bucket_name}/outputs/output-{custom_model_name}'}"
   ]
  },
  {
   "cell_type": "code",
   "execution_count": null,
   "id": "e3033248",
   "metadata": {},
   "outputs": [],
   "source": [
    "bedrock.create_model_customization_job(\n",
    "    customizationType=customization_type,\n",
    "    jobName=customization_job_name,\n",
    "    customModelName=custom_model_name,\n",
    "    roleArn=customization_role,\n",
    "    baseModelIdentifier=base_model_id,\n",
    "    hyperParameters=hyper_parameters,\n",
    "    trainingDataConfig=training_data_config,\n",
    "    validationDataConfig=validation_data_config,\n",
    "    outputDataConfig=output_data_config\n",
    ")"
   ]
  },
  {
   "cell_type": "markdown",
   "id": "40c0991c",
   "metadata": {},
   "source": [
    "## Creating Provisioned Throughput"
   ]
  },
  {
   "cell_type": "code",
   "execution_count": null,
   "id": "36795dae",
   "metadata": {},
   "outputs": [],
   "source": [
    "provisioned_model_id = bedrock.create_provisioned_model_throughput(\n",
    "     modelUnits=1,\n",
    "     provisionedModelName='provisioned_model_fine_tuning_1', \n",
    "     modelId='<INSERT_CUSTOM_MODEL_ID_HERE>'\n",
    "    )['provisionedModelArn']    "
   ]
  },
  {
   "cell_type": "code",
   "execution_count": null,
   "id": "148d6d62",
   "metadata": {},
   "outputs": [],
   "source": [
    "file_path_for_testing = f'{data_folder}/{test_file_name}'\n",
    "with open(file_path_for_testing) as f:\n",
    "    lines = f.read().splitlines()\n",
    "\n",
    "test_prompt = json.loads(lines[0])['prompt']\n",
    "reference_summary = json.loads(lines[0])['completion']\n"
   ]
  },
  {
   "cell_type": "code",
   "execution_count": null,
   "id": "29064b1d",
   "metadata": {},
   "outputs": [],
   "source": [
    "body = json.dumps({\n",
    "    \"prompt\": test_prompt,\n",
    "    \"max_gen_len\": 300,\n",
    "    \"temperature\": 0.5,\n",
    "    \"top_p\": 0.5,\n",
    "})\n",
    "\n",
    "modelId = provisioned_model_id\n",
    "accept = 'application/json'\n",
    "contentType = 'application/json'\n",
    "\n",
    "response = bedrock_runtime.invoke_model(body=body, modelId=modelId, accept=accept, contentType=contentType) \n",
    "\n",
    "response_body = json.loads(response.get('body').read())\n",
    "print(response_body)"
   ]
  },
  {
   "cell_type": "markdown",
   "id": "d62e0bc3",
   "metadata": {},
   "source": [
    "## Clean Up"
   ]
  },
  {
   "cell_type": "code",
   "execution_count": null,
   "id": "aab8fa41",
   "metadata": {},
   "outputs": [],
   "source": [
    "bedrock.delete_provisioned_model_throughput(provisionedModelId=provisioned_model_id)"
   ]
  },
  {
   "cell_type": "code",
   "execution_count": null,
   "id": "b56b0b85",
   "metadata": {},
   "outputs": [],
   "source": [
    "objects = s3_client.list_objects(Bucket=bucket_name)  \n",
    "if 'Contents' in objects:\n",
    "    for obj in objects['Contents']:\n",
    "        s3_client.delete_object(Bucket=bucket_name, Key=obj['Key']) \n",
    "s3_client.delete_bucket(Bucket=bucket_name)"
   ]
  },
  {
   "cell_type": "code",
   "execution_count": null,
   "id": "ae785068",
   "metadata": {},
   "outputs": [],
   "source": [
    "iam.detach_role_policy(RoleName=role_name, PolicyArn=policy_arn)\n",
    "iam.delete_role(RoleName=role_name)"
   ]
  }
 ],
 "metadata": {
  "kernelspec": {
   "display_name": "Python 3 (ipykernel)",
   "language": "python",
   "name": "python3"
  },
  "language_info": {
   "codemirror_mode": {
    "name": "ipython",
    "version": 3
   },
   "file_extension": ".py",
   "mimetype": "text/x-python",
   "name": "python",
   "nbconvert_exporter": "python",
   "pygments_lexer": "ipython3",
   "version": "3.9.12"
  }
 },
 "nbformat": 4,
 "nbformat_minor": 5
}
