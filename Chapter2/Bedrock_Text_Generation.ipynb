{
 "cells": [
  {
   "cell_type": "markdown",
   "id": "8e7ca445",
   "metadata": {},
   "source": [
    "# Text Generation for Marketing Strategy"
   ]
  },
  {
   "cell_type": "code",
   "execution_count": 5,
   "id": "050e4bed",
   "metadata": {},
   "outputs": [],
   "source": [
    "import json\n",
    "import os\n",
    "import sys\n",
    "import boto3\n",
    "import botocore"
   ]
  },
  {
   "cell_type": "code",
   "execution_count": 6,
   "id": "9f4f4e0d",
   "metadata": {},
   "outputs": [],
   "source": [
    "module_path = \"..\"\n",
    "sys.path.append(os.path.abspath(module_path))"
   ]
  },
  {
   "cell_type": "code",
   "execution_count": 14,
   "id": "6737a33c",
   "metadata": {},
   "outputs": [],
   "source": [
    "bedrock_runtime = boto3.client(\n",
    "    service_name='bedrock-runtime', \n",
    "    aws_access_key_id=os.getenv('aws_access_key_id'),\n",
    "    aws_secret_access_key=os.getenv('aws_secret_access_key'),\n",
    "    region_name='us-west-2'\n",
    ")"
   ]
  },
  {
   "cell_type": "code",
   "execution_count": 15,
   "id": "e68d25b9",
   "metadata": {},
   "outputs": [],
   "source": [
    "scenario_description = \"\"\"\n",
    "Develop a marketing strategy outline for launching a new eco-friendly,\n",
    "innovative bicycle model targeted at urban commuters.\n",
    "\"\"\""
   ]
  },
  {
   "cell_type": "code",
   "execution_count": 16,
   "id": "b74f253e",
   "metadata": {},
   "outputs": [],
   "source": [
    "request_body = json.dumps({\n",
    "    \"inputText\": scenario_description,\n",
    "    \"textGenerationConfig\": {\n",
    "        \"maxTokenCount\": 512,\n",
    "        \"temperature\": 0.5,\n",
    "    },\n",
    "})"
   ]
  },
  {
   "cell_type": "code",
   "execution_count": 17,
   "id": "5461de2c",
   "metadata": {},
   "outputs": [],
   "source": [
    "modelId = 'amazon.titan-text-express-v1'\n",
    "accept = 'application/json'\n",
    "contentType = 'application/json'\n",
    "generatedText = \"\\n\"\n",
    "\n",
    "model_response = bedrock_runtime.invoke_model(body=request_body, modelId=modelId, accept=accept, contentType=contentType)\n",
    "response_contents = json.loads(model_response.get('body').read())\n",
    "\n",
    "generatedText = response_contents.get('results')[0].get('outputText')"
   ]
  },
  {
   "cell_type": "code",
   "execution_count": 18,
   "id": "2d70bee4",
   "metadata": {},
   "outputs": [
    {
     "data": {
      "text/plain": [
       "{'ResponseMetadata': {'RequestId': '876d1190-09cd-4709-872b-486971bfdbdd',\n",
       "  'HTTPStatusCode': 200,\n",
       "  'HTTPHeaders': {'date': 'Mon, 17 Feb 2025 08:53:26 GMT',\n",
       "   'content-type': 'application/json',\n",
       "   'content-length': '2873',\n",
       "   'connection': 'keep-alive',\n",
       "   'x-amzn-requestid': '876d1190-09cd-4709-872b-486971bfdbdd',\n",
       "   'x-amzn-bedrock-invocation-latency': '25599',\n",
       "   'x-amzn-bedrock-output-token-count': '512',\n",
       "   'x-amzn-bedrock-input-token-count': '26'},\n",
       "  'RetryAttempts': 0},\n",
       " 'contentType': 'application/json',\n",
       " 'body': <botocore.response.StreamingBody at 0x1846869f670>}"
      ]
     },
     "execution_count": 18,
     "metadata": {},
     "output_type": "execute_result"
    }
   ],
   "source": [
    "model_response"
   ]
  },
  {
   "cell_type": "code",
   "execution_count": 19,
   "id": "7053bf1f",
   "metadata": {},
   "outputs": [
    {
     "data": {
      "text/plain": [
       "{'inputTextTokenCount': 26,\n",
       " 'results': [{'tokenCount': 512,\n",
       "   'outputText': \"1. Target Market: Urban commuters, environmentally conscious individuals, and cycling enthusiasts in major cities.\\n2. Unique Selling Points (USPs):\\n    1. Innovative eco-friendly features such as a solar-powered battery, regenerative braking system, and lightweight frame.\\n    2. Sleek and modern design with customizable options to suit individual preferences.\\n    3. Easy and convenient to use, with integrated smart features such as GPS tracking and remote locking.\\n3. Marketing Channels:\\n    1. Social media campaigns on platforms like Instagram, Facebook, and Twitter to showcase the bike's features and benefits.\\n    2. Influencer marketing partnerships with popular cycling influencers and bloggers to promote the bike.\\n    3. Collaborations with local bike shops and cycling clubs to showcase the bike and provide test rides.\\n    4. Outdoor advertising campaigns in high-traffic areas such as bike lanes and parks.\\n    5. Online advertising through targeted display ads and search engine optimization (SEO).\\n    6. Trade shows and exhibitions to showcase the bike and connect with potential customers.\\n    7. Collaborations with local environmental organizations to promote sustainability and eco-friendliness.\\n    8. Product reviews and testimonials from satisfied customers to build trust and credibility.\\n    9. Customer referral programs to encourage existing customers to refer their friends and family.\\n    10. Partnerships with local transportation authorities to promote the bike as a sustainable mode of transportation.\\n    11. Email marketing campaigns to keep customers informed about new features, promotions, and events.\\n    12. Referral programs to encourage customers to refer their friends and family to the bike.\\n    13. Collaborations with local fitness and wellness centers to promote the bike as a healthy lifestyle choice.\\n    14. Collaborations with local universities and colleges to promote the bike as a sustainable transportation option for students.\\n    15. Collaborations with local media outlets to feature the bike in news stories and articles.\\n    16. Collaborations with local government agencies to promote the bike as a sustainable transportation option for city residents.\\n    17. Collaborations with local bike rental companies to provide customers with an easy and convenient way to try the bike before purchasing.\\n    18. Collaborations with local bike repair shops to provide customers with reliable and affordable maintenance services.\\n    19. Collaborations with local bike-sharing programs to provide customers with access to the bike when they need it.\\n    20. Collaborations with local transportation authorities to promote the bike as a sustainable transportation option for city residents.\\n\\n\",\n",
       "   'completionReason': 'LENGTH'}]}"
      ]
     },
     "execution_count": 19,
     "metadata": {},
     "output_type": "execute_result"
    }
   ],
   "source": [
    "response_contents"
   ]
  },
  {
   "cell_type": "code",
   "execution_count": 32,
   "id": "c6a65436",
   "metadata": {},
   "outputs": [
    {
     "data": {
      "text/plain": [
       "\"1. Target Market: Urban commuters, environmentally conscious individuals, and cycling enthusiasts in major cities.\\n2. Unique Selling Points (USPs):\\n    1. Innovative eco-friendly features such as a solar-powered battery, regenerative braking system, and lightweight frame.\\n    2. Sleek and modern design with customizable options to suit individual preferences.\\n    3. Easy and convenient to use, with integrated smart features such as GPS tracking and remote locking.\\n3. Marketing Channels:\\n    1. Social media campaigns on platforms like Instagram, Facebook, and Twitter to showcase the bike's features and benefits.\\n    2. Influencer marketing partnerships with popular cycling influencers and bloggers to promote the bike.\\n    3. Collaborations with local bike shops and cycling clubs to showcase the bike and provide test rides.\\n    4. Outdoor advertising campaigns in high-traffic areas such as bike lanes and parks.\\n    5. Online advertising through targeted display ads and search engine optimization (SEO).\\n    6. Trade shows and exhibitions to showcase the bike and connect with potential customers.\\n    7. Collaborations with local environmental organizations to promote sustainability and eco-friendliness.\\n    8. Product reviews and testimonials from satisfied customers to build trust and credibility.\\n    9. Customer referral programs to encourage existing customers to refer their friends and family.\\n    10. Partnerships with local transportation authorities to promote the bike as a sustainable mode of transportation.\\n    11. Email marketing campaigns to keep customers informed about new features, promotions, and events.\\n    12. Referral programs to encourage customers to refer their friends and family to the bike.\\n    13. Collaborations with local fitness and wellness centers to promote the bike as a healthy lifestyle choice.\\n    14. Collaborations with local universities and colleges to promote the bike as a sustainable transportation option for students.\\n    15. Collaborations with local media outlets to feature the bike in news stories and articles.\\n    16. Collaborations with local government agencies to promote the bike as a sustainable transportation option for city residents.\\n    17. Collaborations with local bike rental companies to provide customers with an easy and convenient way to try the bike before purchasing.\\n    18. Collaborations with local bike repair shops to provide customers with reliable and affordable maintenance services.\\n    19. Collaborations with local bike-sharing programs to provide customers with access to the bike when they need it.\\n    20. Collaborations with local transportation authorities to promote the bike as a sustainable transportation option for city residents.\\n\\n\""
      ]
     },
     "execution_count": 32,
     "metadata": {},
     "output_type": "execute_result"
    }
   ],
   "source": [
    "generatedText"
   ]
  }
 ],
 "metadata": {
  "kernelspec": {
   "display_name": "Python 3 (ipykernel)",
   "language": "python",
   "name": "python3"
  },
  "language_info": {
   "codemirror_mode": {
    "name": "ipython",
    "version": 3
   },
   "file_extension": ".py",
   "mimetype": "text/x-python",
   "name": "python",
   "nbconvert_exporter": "python",
   "pygments_lexer": "ipython3",
   "version": "3.9.12"
  }
 },
 "nbformat": 4,
 "nbformat_minor": 5
}
