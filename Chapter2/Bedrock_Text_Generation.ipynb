{
 "cells": [
  {
   "cell_type": "markdown",
   "id": "8e7ca445",
   "metadata": {},
   "source": [
    "# Text Generation for Marketing Strategy"
   ]
  },
  {
   "cell_type": "code",
   "execution_count": null,
   "id": "050e4bed",
   "metadata": {},
   "outputs": [],
   "source": [
    "import json\n",
    "import os\n",
    "import sys\n",
    "import boto3\n",
    "import botocore"
   ]
  },
  {
   "cell_type": "code",
   "execution_count": null,
   "id": "9f4f4e0d",
   "metadata": {},
   "outputs": [],
   "source": [
    "module_path = \"..\"\n",
    "sys.path.append(os.path.abspath(module_path))"
   ]
  },
  {
   "cell_type": "code",
   "execution_count": null,
   "id": "e68d25b9",
   "metadata": {},
   "outputs": [],
   "source": [
    "scenario_description = \"\"\"\n",
    "Develop a marketing strategy outline for launching a new eco-friendly,\n",
    "innovative bicycle model targeted at urban commuters.\n",
    "\"\"\""
   ]
  },
  {
   "cell_type": "code",
   "execution_count": null,
   "id": "5461de2c",
   "metadata": {},
   "outputs": [],
   "source": [
    "modelId = 'amazon.titan-tg1-large'\n",
    "accept = 'application/json'\n",
    "contentType = 'application/json'\n",
    "generatedText = \"\\n\"\n",
    "\n",
    "model_response = bedrock_runtime.invoke_model(body=request_body, modelId=modelId, accept=accept, contentType=contentType)\n",
    "response_contents = json.loads(model_response.get('body').read())\n",
    "\n",
    "generatedText = response_contents.get('results')[0].get('outputText')"
   ]
  },
  {
   "cell_type": "code",
   "execution_count": null,
   "id": "2d70bee4",
   "metadata": {},
   "outputs": [],
   "source": [
    "model_response"
   ]
  },
  {
   "cell_type": "code",
   "execution_count": null,
   "id": "7053bf1f",
   "metadata": {},
   "outputs": [],
   "source": [
    "response_contents"
   ]
  },
  {
   "cell_type": "code",
   "execution_count": null,
   "id": "c6a65436",
   "metadata": {},
   "outputs": [],
   "source": [
    "email_content = generatedText[generatedText.index('\\n')+1:]\n",
    "print(email_content)"
   ]
  },
  {
   "cell_type": "code",
   "execution_count": null,
   "id": "a5c18448",
   "metadata": {},
   "outputs": [],
   "source": [
    "output = []\n",
    "\n",
    "async def process_stream(response):\n",
    "    stream = response.get('body')\n",
    "    i = 1\n",
    "    if stream:\n",
    "        try:\n",
    "            async for event in stream:\n",
    "                chunk = event.get('chunk')\n",
    "                if chunk:\n",
    "                    chunk_obj = json.loads(chunk.get('bytes').decode())\n",
    "                    text = chunk_obj['outputText']\n",
    "                    output.append(text)\n",
    "                    print(f'\\t\\t\\x1b[31m**Chunk {i}**\\x1b[0m\\n{text}\\n')\n",
    "                    i += 1\n",
    "        except Exception as e:\n",
    "            print(f'Error processing stream: {str(e)}')\n"
   ]
  },
  {
   "cell_type": "code",
   "execution_count": null,
   "id": "0177d251",
   "metadata": {},
   "outputs": [],
   "source": [
    "    print('\\t\\t\\x1b[31m**COMPLETE OUTPUT**\\x1b[0m\\n')\n",
    "    complete_output = ''.join(output)\n",
    "    print(complete_output)\n"
   ]
  },
  {
   "cell_type": "code",
   "execution_count": null,
   "id": "8ff935a7",
   "metadata": {},
   "outputs": [],
   "source": []
  },
  {
   "cell_type": "code",
   "execution_count": null,
   "id": "2f7b229e",
   "metadata": {},
   "outputs": [],
   "source": []
  }
 ],
 "metadata": {
  "kernelspec": {
   "display_name": "Python 3 (ipykernel)",
   "language": "python",
   "name": "python3"
  },
  "language_info": {
   "codemirror_mode": {
    "name": "ipython",
    "version": 3
   },
   "file_extension": ".py",
   "mimetype": "text/x-python",
   "name": "python",
   "nbconvert_exporter": "python",
   "pygments_lexer": "ipython3",
   "version": "3.9.12"
  }
 },
 "nbformat": 4,
 "nbformat_minor": 5
}
