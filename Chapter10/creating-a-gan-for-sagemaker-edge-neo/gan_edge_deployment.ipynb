{
 "cells": [
  {
   "cell_type": "code",
   "execution_count": null,
   "id": "2d11f603",
   "metadata": {},
   "outputs": [],
   "source": [
    "# Import required libraries\n",
    "import boto3\n",
    "import sagemaker\n",
    "from sagemaker import get_execution_role\n",
    "\n",
    "# Initialize SageMaker session and role\n",
    "sagemaker_session = sagemaker.Session()\n",
    "role = get_execution_role()\n",
    "bucket = 'sagemaker-edge-demo-<your-unique-id>'  # Replace with your S3 bucket name\n",
    "prefix = 'gan-mnist'\n",
    "region = boto3.Session().region_name"
   ]
  },
  {
   "cell_type": "code",
   "execution_count": null,
   "id": "cd7af62d",
   "metadata": {},
   "outputs": [],
   "source": [
    "import torch\n",
    "from torchvision import datasets, transforms\n",
    "\n",
    "# Define a transform to normalize the data\n",
    "transform = transforms.Compose([\n",
    "    transforms.ToTensor(),\n",
    "    transforms.Normalize((0.5,), (0.5,))\n",
    "])\n",
    "\n",
    "# Download the training dataset\n",
    "train_dataset = datasets.MNIST('./data', download=True, train=True, transform=transform)"
   ]
  },
  {
   "cell_type": "code",
   "execution_count": null,
   "id": "e3e355fd",
   "metadata": {},
   "outputs": [],
   "source": [
    "from sagemaker.pytorch import PyTorch\n",
    "\n",
    "estimator = PyTorch(\n",
    "    entry_point='gan_mnist.py',\n",
    "    source_dir='.',  # Directory containing the script\n",
    "    role=role,\n",
    "    framework_version='1.9',\n",
    "    py_version='py38',\n",
    "    instance_count=1,\n",
    "    instance_type='ml.m5.large',\n",
    "    output_path=f's3://{bucket}/{prefix}/output',\n",
    "    hyperparameters={\n",
    "        'n_epochs': 5,\n",
    "        'batch_size': 64,\n",
    "        'lr': 0.0002,\n",
    "        'latent_dim': 100\n",
    "    }\n",
    ")\n",
    "\n",
    "# Start training\n",
    "estimator.fit()"
   ]
  },
  {
   "cell_type": "code",
   "execution_count": null,
   "id": "380580c8",
   "metadata": {},
   "outputs": [],
   "source": [
    "compiled_model_path = f's3://{bucket}/{prefix}/compiled'"
   ]
  },
  {
   "cell_type": "code",
   "execution_count": null,
   "id": "62070743",
   "metadata": {},
   "outputs": [],
   "source": [
    "model_artifact = sagemaker_session.upload_data('model.tar.gz', bucket=bucket, key_prefix=f'{prefix}/model')\n",
    "print('Model artifact uploaded to:', model_artifact)"
   ]
  },
  {
   "cell_type": "code",
   "execution_count": null,
   "id": "bc924ceb",
   "metadata": {},
   "outputs": [],
   "source": [
    "compiled_model = estimator.compile_model(\n",
    "    target_instance_family='ml_c5',\n",
    "    input_shape={'latent_vector': [1, 100]},\n",
    "    output_path=compiled_model_path,\n",
    "    framework='pytorch',\n",
    "    framework_version='1.9',\n",
    "    role=role,\n",
    "    model=model_artifact\n",
    ")"
   ]
  }
 ],
 "metadata": {
  "kernelspec": {
   "display_name": "Python 3 (ipykernel)",
   "language": "python",
   "name": "python3"
  },
  "language_info": {
   "codemirror_mode": {
    "name": "ipython",
    "version": 3
   },
   "file_extension": ".py",
   "mimetype": "text/x-python",
   "name": "python",
   "nbconvert_exporter": "python",
   "pygments_lexer": "ipython3",
   "version": "3.9.12"
  }
 },
 "nbformat": 4,
 "nbformat_minor": 5
}
