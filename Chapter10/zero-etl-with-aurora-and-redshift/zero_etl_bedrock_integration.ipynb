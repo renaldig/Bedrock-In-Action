{
 "cells": [
  {
   "cell_type": "code",
   "execution_count": null,
   "id": "d38c2d1e",
   "metadata": {},
   "outputs": [],
   "source": [
    "# Import required libraries\n",
    "import boto3\n",
    "import pandas as pd\n",
    "import json\n",
    "import time\n",
    "from IPython.display import display, Markdown\n",
    "\n",
    "# Initialize AWS clients\n",
    "region = 'us-west-2'  # Replace with your AWS region\n",
    "bedrock = boto3.client('bedrock-runtime', region_name=region)\n",
    "redshift_data = boto3.client('redshift-data', region_name=region)\n",
    "session = boto3.Session()"
   ]
  },
  {
   "cell_type": "code",
   "execution_count": null,
   "id": "7d5c02e2",
   "metadata": {},
   "outputs": [],
   "source": [
    "# Set Redshift cluster details\n",
    "redshift_cluster_id = 'redshift-zero-etl-cluster'\n",
    "database_name = 'dev'\n",
    "db_user = 'admin'"
   ]
  },
  {
   "cell_type": "code",
   "execution_count": null,
   "id": "01f3f15c",
   "metadata": {},
   "outputs": [],
   "source": [
    "# Write the SQL query\n",
    "sql_query = \"\"\"\n",
    "SELECT p.product_name, p.category, p.price, s.sale_amount, s.sale_date\n",
    "FROM public.products p\n",
    "JOIN public.sales s ON p.product_id = s.product_id\n",
    "ORDER BY s.sale_date DESC\n",
    "LIMIT 1;\n",
    "\"\"\"\n",
    "\n",
    "# Execute the query\n",
    "response = redshift_data.execute_statement(\n",
    "    ClusterIdentifier=redshift_cluster_id,\n",
    "    Database=database_name,\n",
    "    DbUser=db_user,\n",
    "    Sql=sql_query\n",
    ")\n",
    "\n",
    "query_id = response['Id']"
   ]
  },
  {
   "cell_type": "code",
   "execution_count": null,
   "id": "9eaf39c4",
   "metadata": {},
   "outputs": [],
   "source": [
    "# Wait for the query to complete\n",
    "status = redshift_data.describe_statement(Id=query_id)['Status']\n",
    "while status not in ('FINISHED', 'FAILED', 'ABORTED'):\n",
    "    time.sleep(1)\n",
    "    status = redshift_data.describe_statement(Id=query_id)['Status']\n",
    "\n",
    "# Fetch the results\n",
    "if status == 'FINISHED':\n",
    "    result = redshift_data.get_statement_result(Id=query_id)\n",
    "    records = result['Records']\n",
    "else:\n",
    "    raise Exception(f\"Query failed with status: {status}\")"
   ]
  },
  {
   "cell_type": "code",
   "execution_count": null,
   "id": "20bd0a43",
   "metadata": {},
   "outputs": [],
   "source": [
    "# Extract column names\n",
    "column_info = result['ColumnMetadata']\n",
    "columns = [col['name'] for col in column_info]\n",
    "\n",
    "# Parse records\n",
    "data = []\n",
    "for record in records:\n",
    "    row = []\n",
    "    for field in record:\n",
    "        value = list(field.values())[0]\n",
    "        row.append(value)\n",
    "    data.append(row)\n",
    "\n",
    "# Create DataFrame\n",
    "df = pd.DataFrame(data, columns=columns)\n",
    "display(df)\n"
   ]
  },
  {
   "cell_type": "code",
   "execution_count": null,
   "id": "528adefe",
   "metadata": {},
   "outputs": [],
   "source": [
    "# Extract data for the prompt\n",
    "product_info = df.iloc[0]\n",
    "\n",
    "product_name = product_info['product_name']\n",
    "category = product_info['category']\n",
    "price = product_info['price']\n",
    "sale_amount = product_info['sale_amount']\n",
    "sale_date = product_info['sale_date']\n",
    "\n",
    "# Create the prompt\n",
    "prompt = f\"\"\"\n",
    "You are a marketing expert.\n",
    "\n",
    "Based on the following product information and recent sales data, generate a compelling marketing message.\n",
    "\n",
    "Product Name: {product_name}\n",
    "Category: {category}\n",
    "Price: ${price}\n",
    "Recent Sale Amount: ${sale_amount}\n",
    "Sale Date: {sale_date}\n",
    "\n",
    "The marketing message should highlight the product's features and appeal to potential customers.\n",
    "\n",
    "Message:\n",
    "\"\"\"\n",
    "\n",
    "# Display the prompt\n",
    "display(Markdown(f\"**Prompt:**\\n{prompt}\"))"
   ]
  },
  {
   "cell_type": "code",
   "execution_count": null,
   "id": "1e6c610f",
   "metadata": {},
   "outputs": [],
   "source": [
    "# Set the model ID\n",
    "model_id = 'amazon.titan-text-premier-v1:0'\n",
    "\n",
    "# Invoke the model\n",
    "response = bedrock.invoke_model(\n",
    "    modelId=model_id,\n",
    "    accept='application/json',\n",
    "    contentType='application/json',\n",
    "    body=json.dumps({\n",
    "        \"inputText\": prompt,\n",
    "        \"parameters\": {\n",
    "            \"maxTokens\": 500,\n",
    "            \"temperature\": 0.7,\n",
    "            \"topP\": 0.9\n",
    "        }\n",
    "    })\n",
    ")\n",
    "\n",
    "# Parse the response\n",
    "response_body = json.loads(response['body'].read())\n",
    "generated_message = response_body['results'][0]['outputText']\n",
    "\n",
    "# Display the generated message\n",
    "display(Markdown(f\"**Generated Marketing Message:**\\n{generated_message}\"))"
   ]
  }
 ],
 "metadata": {
  "kernelspec": {
   "display_name": "Python 3 (ipykernel)",
   "language": "python",
   "name": "python3"
  },
  "language_info": {
   "codemirror_mode": {
    "name": "ipython",
    "version": 3
   },
   "file_extension": ".py",
   "mimetype": "text/x-python",
   "name": "python",
   "nbconvert_exporter": "python",
   "pygments_lexer": "ipython3",
   "version": "3.9.12"
  }
 },
 "nbformat": 4,
 "nbformat_minor": 5
}
