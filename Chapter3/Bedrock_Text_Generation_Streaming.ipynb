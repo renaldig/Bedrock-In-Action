{
 "cells": [
  {
   "cell_type": "markdown",
   "id": "8e7ca445",
   "metadata": {},
   "source": [
    "# Text Generation for Explaining Hamsters"
   ]
  },
  {
   "cell_type": "code",
   "execution_count": null,
   "id": "050e4bed",
   "metadata": {},
   "outputs": [],
   "source": [
    "import json\n",
    "import os\n",
    "import sys\n",
    "\n",
    "import boto3\n",
    "import botocore\n",
    "\n",
    "module_path = \"..\"\n",
    "sys.path.append(os.path.abspath(module_path))\n",
    "\n",
    "\n",
    "bedrock_runtime = boto3.client(\n",
    "    service_name='bedrock-runtime', \n",
    "    aws_access_key_id=os.getenv('aws_access_key_id'),\n",
    "    aws_secret_access_key=os.getenv('aws_secret_access_key'),\n",
    "    region_name='us-west-2'\n",
    ")"
   ]
  },
  {
   "cell_type": "code",
   "execution_count": null,
   "id": "e68d25b9",
   "metadata": {},
   "outputs": [],
   "source": [
    "scenario_description = \"\"\"\n",
    "Explain what hamsters are to 9th graders.\n",
    "\"\"\""
   ]
  },
  {
   "cell_type": "code",
   "execution_count": null,
   "id": "b40baac9",
   "metadata": {},
   "outputs": [],
   "source": [
    "request_body = json.dumps({\n",
    "    \"inputText\": \"\\n\\nHuman: Explain what hamsters are to 9th graders.\\n\\nAssistant:\",\n",
    "    \"textGenerationConfig\":{\n",
    "        \"max_tokens_to_sample\": 300,\n",
    "        \"temperature\": 0.1,\n",
    "        \"top_p\": 0.9,\n",
    "        }\n",
    "    }) "
   ]
  },
  {
   "cell_type": "code",
   "execution_count": null,
   "id": "5461de2c",
   "metadata": {},
   "outputs": [],
   "source": [
    "modelId = 'amazon.titan-tg1-large'\n",
    "accept = 'application/json'\n",
    "contentType = 'application/json'\n",
    "generatedText = \"\\n\"\n",
    "\n",
    "model_response = bedrock_runtime.invoke_model(body=request_body, modelId=modelId, accept=accept, contentType=contentType)\n",
    "response_contents = json.loads(model_response.get('body').read())\n",
    "\n",
    "generatedText = response_contents.get('results')[0].get('outputText')"
   ]
  },
  {
   "cell_type": "code",
   "execution_count": null,
   "id": "2d70bee4",
   "metadata": {},
   "outputs": [],
   "source": [
    "model_response"
   ]
  },
  {
   "cell_type": "code",
   "execution_count": null,
   "id": "7053bf1f",
   "metadata": {},
   "outputs": [],
   "source": [
    "response_contents"
   ]
  },
  {
   "cell_type": "code",
   "execution_count": null,
   "id": "c6a65436",
   "metadata": {},
   "outputs": [],
   "source": [
    "email_content = generatedText[generatedText.index('\\n')+1:]\n",
    "print(email_content)"
   ]
  },
  {
   "cell_type": "markdown",
   "id": "47c36ceb",
   "metadata": {},
   "source": [
    "# Streaming an Explanation of Hamsters"
   ]
  },
  {
   "cell_type": "code",
   "execution_count": null,
   "id": "9d7b36ec",
   "metadata": {},
   "outputs": [],
   "source": [
    "output = []\n",
    "streamed_response = bedrock_runtime.invoke_model_with_response_stream(body=request_body, modelId=modelId, accept=accept, contentType=contentType)\n",
    "stream = streamed_response.get('body')\n",
    "\n",
    "i = 1\n",
    "if stream:\n",
    "    try:\n",
    "        async for event in stream:\n",
    "            chunk = event.get('chunk')\n",
    "            if chunk:\n",
    "                chunk_obj = json.loads(chunk.get('bytes').decode())\n",
    "                text = chunk_obj['outputText']\n",
    "                output.append(text)\n",
    "                print(f'\\t\\t\\x1b[31m**Chunk {i}**\\x1b[0m\\n{text}\\n')\n",
    "                i += 1\n",
    "    except Exception as e:\n",
    "        print(f'Error processing stream: {str(e)}')"
   ]
  },
  {
   "cell_type": "code",
   "execution_count": null,
   "id": "72e675c4",
   "metadata": {},
   "outputs": [],
   "source": [
    "print('\\t\\t\\x1b[31m**COMPLETE OUTPUT**\\x1b[0m\\n')\n",
    "complete_output = ''.join(output)\n",
    "print(complete_output)"
   ]
  }
 ],
 "metadata": {
  "kernelspec": {
   "display_name": "Python 3 (ipykernel)",
   "language": "python",
   "name": "python3"
  },
  "language_info": {
   "codemirror_mode": {
    "name": "ipython",
    "version": 3
   },
   "file_extension": ".py",
   "mimetype": "text/x-python",
   "name": "python",
   "nbconvert_exporter": "python",
   "pygments_lexer": "ipython3",
   "version": "3.9.12"
  }
 },
 "nbformat": 4,
 "nbformat_minor": 5
}
