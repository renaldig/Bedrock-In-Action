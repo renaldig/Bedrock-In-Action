{
 "cells": [
  {
   "cell_type": "code",
   "execution_count": null,
   "id": "6a091159",
   "metadata": {},
   "outputs": [],
   "source": [
    "import uuid\n",
    "import pprint\n",
    "import botocore\n",
    "import logging\n",
    "import sys\n",
    "import boto3\n",
    "import botocore"
   ]
  },
  {
   "cell_type": "code",
   "execution_count": null,
   "id": "385ba961",
   "metadata": {},
   "outputs": [],
   "source": [
    "input_text:str = \"What questions can you answer?\"\n",
    "agent_id:str = '789JRLITBD'\n",
    "agent_alias_id:str = 'NTAPQJL9OT'\n",
    "session_id:str = str(uuid.uuid1())\n",
    "enable_trace:bool = True"
   ]
  },
  {
   "cell_type": "code",
   "execution_count": null,
   "id": "eff79c72",
   "metadata": {},
   "outputs": [],
   "source": [
    "client = boto3.client(\"bedrock-agent-runtime\", region_name=\"us-west-2\")\n",
    "logger.info(client)"
   ]
  },
  {
   "cell_type": "code",
   "execution_count": null,
   "id": "14d9e78c",
   "metadata": {},
   "outputs": [],
   "source": [
    "response = client.invoke_agent(inputText=input_text,\n",
    "    agentId=agent_id,\n",
    "    agentAliasId=agent_alias_id,\n",
    "    sessionId=session_id,\n",
    "    enableTrace=enable_trace\n",
    ")\n",
    "\n",
    "logger.info(pprint.pprint(response))"
   ]
  },
  {
   "cell_type": "code",
   "execution_count": null,
   "id": "58947f66",
   "metadata": {},
   "outputs": [],
   "source": [
    "import json\n",
    "event_stream = response['completion']\n",
    "try:\n",
    "    for event in event_stream:        \n",
    "        if 'chunk' in event:\n",
    "            data = event['chunk']['bytes']\n",
    "            logger.info(f\"Final answer ->\\n{data.decode('utf8')}\") #A\n",
    "            end_event_received = True\n",
    "            # End event indicates that the request finished successfully\n",
    "        elif 'trace' in event:\n",
    "            logger.info(json.dumps(event['trace'], indent=2)) #B\n",
    "        else:\n",
    "            raise Exception(\"unexpected event.\", event) #C\n",
    "except Exception as e:\n",
    "    raise Exception(\"unexpected event.\", e)"
   ]
  },
  {
   "cell_type": "code",
   "execution_count": null,
   "id": "8565e851",
   "metadata": {},
   "outputs": [],
   "source": []
  }
 ],
 "metadata": {
  "kernelspec": {
   "display_name": "Python 3 (ipykernel)",
   "language": "python",
   "name": "python3"
  },
  "language_info": {
   "codemirror_mode": {
    "name": "ipython",
    "version": 3
   },
   "file_extension": ".py",
   "mimetype": "text/x-python",
   "name": "python",
   "nbconvert_exporter": "python",
   "pygments_lexer": "ipython3",
   "version": "3.9.12"
  }
 },
 "nbformat": 4,
 "nbformat_minor": 5
}
