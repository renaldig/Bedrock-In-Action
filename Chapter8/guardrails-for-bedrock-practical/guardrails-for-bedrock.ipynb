{
 "cells": [
  {
   "cell_type": "code",
   "execution_count": null,
   "id": "78ef4163",
   "metadata": {},
   "outputs": [],
   "source": [
    "from botocore.session import Session\n",
    "\n",
    "session = Session()\n",
    "client = session.create_client('bedrock')"
   ]
  },
  {
   "cell_type": "code",
   "execution_count": null,
   "id": "14ed3125",
   "metadata": {},
   "outputs": [],
   "source": [
    "topic_policy_config = {\n",
    "    'topicsConfig': [\n",
    "        {\n",
    "            'name': 'Investment Advice',\n",
    "            'definition': 'Any financial investment advice',\n",
    "            'examples': ['Should I invest in stocks?', 'Is real estate a good investment?'],\n",
    "            'type': 'DENY'\n",
    "        }\n",
    "    ]\n",
    "}"
   ]
  },
  {
   "cell_type": "code",
   "execution_count": null,
   "id": "1779aae8",
   "metadata": {},
   "outputs": [],
   "source": [
    "content_policy_config = {\n",
    "    'filtersConfig': [\n",
    "        {\n",
    "            'type': 'HATE',\n",
    "            'inputStrength': 'HIGH',\n",
    "            'outputStrength': 'HIGH'\n",
    "        },\n",
    "        {\n",
    "            'type': 'SEXUAL',\n",
    "            'inputStrength': 'MEDIUM',\n",
    "            'outputStrength': 'MEDIUM'\n",
    "        }\n",
    "    ]\n",
    "}"
   ]
  },
  {
   "cell_type": "code",
   "execution_count": null,
   "id": "b49362bd",
   "metadata": {},
   "outputs": [],
   "source": [
    "response = client.create_guardrail(\n",
    "    name='ExampleGuardrail',\n",
    "    description='Guardrail for blocking specific topics and filtering harmful content',\n",
    "    topicPolicyConfig=topic_policy_config,\n",
    "    contentPolicyConfig=content_policy_config,\n",
    "    blockedInputMessaging='This input is blocked due to content restrictions.',\n",
    "    blockedOutputsMessaging='This output is blocked due to content restrictions.'\n",
    ")\n",
    "\n",
    "# Print the response\n",
    "print(response)"
   ]
  },
  {
   "cell_type": "code",
   "execution_count": null,
   "id": "8a145e25",
   "metadata": {},
   "outputs": [],
   "source": [
    "create_agent_response = client.create_agent(\n",
    "    agentName='CustomerSupportAgent',\n",
    "    description='An agent to assist with customer support queries.',\n",
    "    agentResourceRoleArn='arn:aws:iam::123456789012:role/BedrockAgentRole',\n",
    "    customerEncryptionKeyArn='arn:aws:kms:us-east-1:123456789012:key/abcd1234-a123-456a-a12b-a123b4cd56ef',\n",
    "    foundationModel='arn:aws:bedrock::123456789012:model/example-foundation-model',\n",
    "    instruction='Handle customer support inquiries and provide information.',\n",
    "    guardrailIds=[guardrail_id], \n",
    "    promptOverrideConfiguration={\n",
    "        'promptConfigurations': [\n",
    "            {\n",
    "                'promptType': 'ORCHESTRATION',\n",
    "                'basePromptTemplate': 'How can I assist you today?',\n",
    "                'inferenceConfiguration': {\n",
    "                    'maximumLength': 150,\n",
    "                    'temperature': 0.7\n",
    "                }\n",
    "            }\n",
    "        ]\n",
    "    }\n",
    ")\n",
    "\n",
    "print(f\"Agent created with ID: {create_agent_response['AgentId']}\")"
   ]
  }
 ],
 "metadata": {
  "kernelspec": {
   "display_name": "Python 3 (ipykernel)",
   "language": "python",
   "name": "python3"
  },
  "language_info": {
   "codemirror_mode": {
    "name": "ipython",
    "version": 3
   },
   "file_extension": ".py",
   "mimetype": "text/x-python",
   "name": "python",
   "nbconvert_exporter": "python",
   "pygments_lexer": "ipython3",
   "version": "3.9.12"
  }
 },
 "nbformat": 4,
 "nbformat_minor": 5
}
